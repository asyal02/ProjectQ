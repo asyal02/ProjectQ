{
  "nbformat": 4,
  "nbformat_minor": 0,
  "metadata": {
    "colab": {
      "name": "Project Q.ipynb",
      "version": "0.3.2",
      "provenance": [],
      "include_colab_link": true
    },
    "kernelspec": {
      "name": "python3",
      "display_name": "Python 3"
    }
  },
  "cells": [
    {
      "cell_type": "markdown",
      "metadata": {
        "id": "view-in-github",
        "colab_type": "text"
      },
      "source": [
        "<a href=\"https://colab.research.google.com/github/asyal02/ProjectQ-Network-Data-Analysis-/blob/master/Project_Q.ipynb\" target=\"_parent\"><img src=\"https://colab.research.google.com/assets/colab-badge.svg\" alt=\"Open In Colab\"/></a>"
      ]
    },
    {
      "cell_type": "code",
      "metadata": {
        "id": "WWGNhLOAqaHu",
        "colab_type": "code",
        "outputId": "329a08fb-9c03-4d92-88bd-35949a9a51ad",
        "colab": {
          "base_uri": "https://localhost:8080/",
          "height": 122
        }
      },
      "source": [
        "! pip install pandas"
      ],
      "execution_count": 0,
      "outputs": [
        {
          "output_type": "stream",
          "text": [
            "Requirement already satisfied: pandas in /usr/local/lib/python3.6/dist-packages (0.24.2)\n",
            "Requirement already satisfied: pytz>=2011k in /usr/local/lib/python3.6/dist-packages (from pandas) (2018.9)\n",
            "Requirement already satisfied: numpy>=1.12.0 in /usr/local/lib/python3.6/dist-packages (from pandas) (1.16.4)\n",
            "Requirement already satisfied: python-dateutil>=2.5.0 in /usr/local/lib/python3.6/dist-packages (from pandas) (2.5.3)\n",
            "Requirement already satisfied: six>=1.5 in /usr/local/lib/python3.6/dist-packages (from python-dateutil>=2.5.0->pandas) (1.12.0)\n"
          ],
          "name": "stdout"
        }
      ]
    },
    {
      "cell_type": "code",
      "metadata": {
        "id": "j_V2yECPsDWm",
        "colab_type": "code",
        "outputId": "0dd9dcc2-ebfb-4e90-c555-76155eaaf14b",
        "colab": {
          "base_uri": "https://localhost:8080/",
          "height": 343
        }
      },
      "source": [
        "! pip install hdbscan"
      ],
      "execution_count": 0,
      "outputs": [
        {
          "output_type": "stream",
          "text": [
            "Collecting hdbscan\n",
            "\u001b[?25l  Downloading https://files.pythonhosted.org/packages/10/7c/1401ec61b0e7392287e045b6913206cfff050b65d869c19f7ec0f5626487/hdbscan-0.8.22.tar.gz (4.0MB)\n",
            "\u001b[K     |████████████████████████████████| 4.0MB 4.8MB/s \n",
            "\u001b[?25h  Installing build dependencies ... \u001b[?25l\u001b[?25hdone\n",
            "  Getting requirements to build wheel ... \u001b[?25l\u001b[?25hdone\n",
            "    Preparing wheel metadata ... \u001b[?25l\u001b[?25hdone\n",
            "Requirement already satisfied: joblib in /usr/local/lib/python3.6/dist-packages (from hdbscan) (0.13.2)\n",
            "Requirement already satisfied: numpy>=1.16.0 in /usr/local/lib/python3.6/dist-packages (from hdbscan) (1.16.4)\n",
            "Requirement already satisfied: cython>=0.27 in /usr/local/lib/python3.6/dist-packages (from hdbscan) (0.29.13)\n",
            "Requirement already satisfied: scikit-learn>=0.17 in /usr/local/lib/python3.6/dist-packages (from hdbscan) (0.21.3)\n",
            "Requirement already satisfied: scipy>=0.9 in /usr/local/lib/python3.6/dist-packages (from hdbscan) (1.3.1)\n",
            "Building wheels for collected packages: hdbscan\n",
            "  Building wheel for hdbscan (PEP 517) ... \u001b[?25l\u001b[?25hdone\n",
            "  Created wheel for hdbscan: filename=hdbscan-0.8.22-cp36-cp36m-linux_x86_64.whl size=2336925 sha256=98c904078b5c5ffb2c69b2ce8d4f91592acd7ae8b62c9c3d1f3ebcd23627cd6b\n",
            "  Stored in directory: /root/.cache/pip/wheels/6d/f9/db/f2e5e704427932f5b05c91fc520effbb0bd10ba8d73fd3bfc7\n",
            "Successfully built hdbscan\n",
            "Installing collected packages: hdbscan\n",
            "Successfully installed hdbscan-0.8.22\n"
          ],
          "name": "stdout"
        }
      ]
    },
    {
      "cell_type": "code",
      "metadata": {
        "id": "0yaoP-k_xkei",
        "colab_type": "code",
        "outputId": "2fd27a3f-35b4-4eb2-95b5-c3e6003ae185",
        "colab": {
          "base_uri": "https://localhost:8080/",
          "height": 496
        }
      },
      "source": [
        "! python U-map.py\n",
        "! python U-mapoverHDBSCAN.py"
      ],
      "execution_count": 0,
      "outputs": [
        {
          "output_type": "stream",
          "text": [
            "40709\n",
            "/usr/local/lib/python3.6/dist-packages/umap/spectral.py:229: UserWarning: Embedding a total of 19 separate connected components using meta-embedding (experimental)\n",
            "  n_components\n",
            "40709\n",
            "/usr/local/lib/python3.6/dist-packages/sklearn/externals/six.py:31: DeprecationWarning: The module is deprecated in version 0.21 and will be removed in version 0.23 since we've dropped support for Python 2.7. Please rely on the official version of six (https://pypi.org/project/six/).\n",
            "  \"(https://pypi.org/project/six/).\", DeprecationWarning)\n",
            "/usr/local/lib/python3.6/dist-packages/sklearn/externals/joblib/__init__.py:15: DeprecationWarning: sklearn.externals.joblib is deprecated in 0.21 and will be removed in 0.23. Please import this functionality directly from joblib, which can be installed with: pip install joblib. If this warning is raised when loading pickled models, you may need to re-serialize those models with scikit-learn 0.21+.\n",
            "  warnings.warn(msg, category=DeprecationWarning)\n",
            "/usr/local/lib/python3.6/dist-packages/sklearn/externals/six.py:31: DeprecationWarning: The module is deprecated in version 0.21 and will be removed in version 0.23 since we've dropped support for Python 2.7. Please rely on the official version of six (https://pypi.org/project/six/).\n",
            "  \"(https://pypi.org/project/six/).\", DeprecationWarning)\n",
            "/usr/local/lib/python3.6/dist-packages/sklearn/externals/joblib/__init__.py:15: DeprecationWarning: sklearn.externals.joblib is deprecated in 0.21 and will be removed in 0.23. Please import this functionality directly from joblib, which can be installed with: pip install joblib. If this warning is raised when loading pickled models, you may need to re-serialize those models with scikit-learn 0.21+.\n",
            "  warnings.warn(msg, category=DeprecationWarning)\n",
            "/usr/local/lib/python3.6/dist-packages/sklearn/externals/six.py:31: DeprecationWarning: The module is deprecated in version 0.21 and will be removed in version 0.23 since we've dropped support for Python 2.7. Please rely on the official version of six (https://pypi.org/project/six/).\n",
            "  \"(https://pypi.org/project/six/).\", DeprecationWarning)\n",
            "/usr/local/lib/python3.6/dist-packages/sklearn/externals/joblib/__init__.py:15: DeprecationWarning: sklearn.externals.joblib is deprecated in 0.21 and will be removed in 0.23. Please import this functionality directly from joblib, which can be installed with: pip install joblib. If this warning is raised when loading pickled models, you may need to re-serialize those models with scikit-learn 0.21+.\n",
            "  warnings.warn(msg, category=DeprecationWarning)\n",
            "/usr/local/lib/python3.6/dist-packages/sklearn/externals/six.py:31: DeprecationWarning: The module is deprecated in version 0.21 and will be removed in version 0.23 since we've dropped support for Python 2.7. Please rely on the official version of six (https://pypi.org/project/six/).\n",
            "  \"(https://pypi.org/project/six/).\", DeprecationWarning)\n",
            "/usr/local/lib/python3.6/dist-packages/sklearn/externals/joblib/__init__.py:15: DeprecationWarning: sklearn.externals.joblib is deprecated in 0.21 and will be removed in 0.23. Please import this functionality directly from joblib, which can be installed with: pip install joblib. If this warning is raised when loading pickled models, you may need to re-serialize those models with scikit-learn 0.21+.\n",
            "  warnings.warn(msg, category=DeprecationWarning)\n",
            "/usr/local/lib/python3.6/dist-packages/sklearn/externals/six.py:31: DeprecationWarning: The module is deprecated in version 0.21 and will be removed in version 0.23 since we've dropped support for Python 2.7. Please rely on the official version of six (https://pypi.org/project/six/).\n",
            "  \"(https://pypi.org/project/six/).\", DeprecationWarning)\n",
            "/usr/local/lib/python3.6/dist-packages/sklearn/externals/joblib/__init__.py:15: DeprecationWarning: sklearn.externals.joblib is deprecated in 0.21 and will be removed in 0.23. Please import this functionality directly from joblib, which can be installed with: pip install joblib. If this warning is raised when loading pickled models, you may need to re-serialize those models with scikit-learn 0.21+.\n",
            "  warnings.warn(msg, category=DeprecationWarning)\n",
            "Estimated number of clusters: 26\n",
            "Estimated number of noise points: 5340\n",
            "Silhouette Coefficient: 0.240\n"
          ],
          "name": "stdout"
        }
      ]
    },
    {
      "cell_type": "code",
      "metadata": {
        "id": "Wgyw0wQsDi_2",
        "colab_type": "code",
        "colab": {
          "base_uri": "https://localhost:8080/",
          "height": 428
        },
        "outputId": "729cd33a-2fd9-49f0-98a4-e94a497c9538"
      },
      "source": [
        "! pip install fastparquet"
      ],
      "execution_count": 2,
      "outputs": [
        {
          "output_type": "stream",
          "text": [
            "Collecting fastparquet\n",
            "\u001b[?25l  Downloading https://files.pythonhosted.org/packages/58/49/dccb790fa17ab3fbf84a6b848050083c7a1899e9586000e34e3e4fbf5538/fastparquet-0.3.2.tar.gz (151kB)\n",
            "\u001b[K     |████████████████████████████████| 153kB 5.0MB/s \n",
            "\u001b[?25hRequirement already satisfied: pandas>=0.19 in /usr/local/lib/python3.6/dist-packages (from fastparquet) (0.24.2)\n",
            "Requirement already satisfied: numba>=0.28 in /usr/local/lib/python3.6/dist-packages (from fastparquet) (0.40.1)\n",
            "Requirement already satisfied: numpy>=1.11 in /usr/local/lib/python3.6/dist-packages (from fastparquet) (1.16.4)\n",
            "Collecting thrift>=0.11.0 (from fastparquet)\n",
            "\u001b[?25l  Downloading https://files.pythonhosted.org/packages/c6/b4/510617906f8e0c5660e7d96fbc5585113f83ad547a3989b80297ac72a74c/thrift-0.11.0.tar.gz (52kB)\n",
            "\u001b[K     |████████████████████████████████| 61kB 17.7MB/s \n",
            "\u001b[?25hRequirement already satisfied: six in /usr/local/lib/python3.6/dist-packages (from fastparquet) (1.12.0)\n",
            "Requirement already satisfied: python-dateutil>=2.5.0 in /usr/local/lib/python3.6/dist-packages (from pandas>=0.19->fastparquet) (2.5.3)\n",
            "Requirement already satisfied: pytz>=2011k in /usr/local/lib/python3.6/dist-packages (from pandas>=0.19->fastparquet) (2018.9)\n",
            "Requirement already satisfied: llvmlite>=0.25.0dev0 in /usr/local/lib/python3.6/dist-packages (from numba>=0.28->fastparquet) (0.29.0)\n",
            "Building wheels for collected packages: fastparquet, thrift\n",
            "  Building wheel for fastparquet (setup.py) ... \u001b[?25l\u001b[?25hdone\n",
            "  Created wheel for fastparquet: filename=fastparquet-0.3.2-cp36-cp36m-linux_x86_64.whl size=253206 sha256=bf707ba6a1971a17509192fcc1a159073f0c02fb81a0897da06568cdb2a3523c\n",
            "  Stored in directory: /root/.cache/pip/wheels/b9/36/13/01416a760ddcab0eb8281ec9c9ffcbed945c9b831647c8b904\n",
            "  Building wheel for thrift (setup.py) ... \u001b[?25l\u001b[?25hdone\n",
            "  Created wheel for thrift: filename=thrift-0.11.0-cp36-cp36m-linux_x86_64.whl size=326452 sha256=1e5e100f8aedc1af65fbf8f802f7fbade0e3fe7c4b878947e9f13a1d69863ad7\n",
            "  Stored in directory: /root/.cache/pip/wheels/be/36/81/0f93ba89a1cb7887c91937948519840a72c0ffdd57cac0ae8f\n",
            "Successfully built fastparquet thrift\n",
            "Installing collected packages: thrift, fastparquet\n",
            "Successfully installed fastparquet-0.3.2 thrift-0.11.0\n"
          ],
          "name": "stdout"
        }
      ]
    },
    {
      "cell_type": "code",
      "metadata": {
        "id": "9azYcM6sysk4",
        "colab_type": "code",
        "colab": {
          "base_uri": "https://localhost:8080/",
          "height": 1000
        },
        "outputId": "91d1e55d-1b0a-4b0a-ccdf-57059b32b028"
      },
      "source": [
        "! python trainrandf_Astha.py"
      ],
      "execution_count": 4,
      "outputs": [
        {
          "output_type": "stream",
          "text": [
            "tcmalloc: large alloc 2036408320 bytes == 0x3e56000 @  0x7fcee00281e7 0x7fceddbb1ca1 0x7fceddc16778 0x7fceddc16d47 0x7fceddcb1038 0x4f8925 0x4fa6c0 0x4f6128 0x4f7d60 0x4f876d 0x4fa6c0 0x4f6128 0x4f7d60 0x4f876d 0x4f98c7 0x4f6128 0x4f7d60 0x4f876d 0x4f98c7 0x4f6128 0x4f7d60 0x4f876d 0x4f98c7 0x4f6128 0x4f7d60 0x4f876d 0x4f98c7 0x4f6128 0x4f9023 0x6415b2 0x64166a\n",
            "tcmalloc: large alloc 2036408320 bytes == 0x8fc5c000 @  0x7fcee00281e7 0x7fceddbb1ca1 0x7fceddc19580 0x7fceddc0e5c5 0x7fceddca5887 0x4f8925 0x4f98c7 0x4f6128 0x4f426e 0x5a1481 0x57c2fe 0x4facb1 0x4f6128 0x4f7d60 0x4f876d 0x4fa6c0 0x4f6128 0x4f7d60 0x4f876d 0x4fa6c0 0x4f6128 0x4f7d60 0x4f876d 0x4f98c7 0x4f6128 0x4f7d60 0x4f876d 0x4f98c7 0x4f6128 0x4f7d60 0x4f876d\n",
            "tcmalloc: large alloc 1723113472 bytes == 0x5b06000 @  0x7fcee00281e7 0x7fceddbb1ca1 0x7fceddc16778 0x7fceddc16d47 0x7fceddcb1038 0x4f8925 0x4fa6c0 0x4f6128 0x4f7d60 0x4f876d 0x4fa6c0 0x4f6128 0x4f7d60 0x4f876d 0x4f98c7 0x4f6128 0x4f7d60 0x4f876d 0x4f98c7 0x4f6128 0x4f7d60 0x4f876d 0x4f98c7 0x4f6128 0x4f7d60 0x4f876d 0x4f98c7 0x4f6128 0x4f9023 0x6415b2 0x64166a\n",
            "tcmalloc: large alloc 2036408320 bytes == 0x11c664000 @  0x7fcee00281e7 0x7fceddbb1ca1 0x7fceddc19580 0x7fceddc0e5c5 0x7fceddca5887 0x4f8925 0x4f98c7 0x4f6128 0x4f426e 0x5a1481 0x57c2fe 0x4facb1 0x4f6128 0x4f7d60 0x4f876d 0x4fa6c0 0x4f6128 0x4f7d60 0x4f876d 0x4fa6c0 0x4f6128 0x4f7d60 0x4f876d 0x4f98c7 0x4f6128 0x4f7d60 0x4f876d 0x4fa6c0 0x4f6128 0x4f7d60 0x4f876d\n",
            "tcmalloc: large alloc 1723113472 bytes == 0x195c76000 @  0x7fcee00281e7 0x7fceddbb1ca1 0x7fceddc19580 0x7fceddc0e5c5 0x7fceddca5887 0x4f8925 0x4f98c7 0x4f6128 0x4f426e 0x5a1481 0x57c2fe 0x4facb1 0x4f6128 0x4f7d60 0x4f876d 0x4fa6c0 0x4f6128 0x4f7d60 0x4f876d 0x4fa6c0 0x4f6128 0x4f7d60 0x4f876d 0x4f98c7 0x4f6128 0x4f7d60 0x4f876d 0x4f98c7 0x4f6128 0x4f7d60 0x4f876d\n",
            "tstat.dtn01.nersc.gov 5Min 1.0000  1.0000  1.0000  1.0000 27.3469\n",
            "[[5162    0]\n",
            " [   0 1943]]               precision    recall  f1-score   support\n",
            "\n",
            "           0       1.00      1.00      1.00      5162\n",
            "           1       1.00      1.00      1.00      1943\n",
            "\n",
            "    accuracy                           1.00      7105\n",
            "   macro avg       1.00      1.00      1.00      7105\n",
            "weighted avg       1.00      1.00      1.00      7105\n",
            " 27.346938775510203 27.346938775510203\n",
            "tstat.dtn01.nersc.gov 5Min 0.8723  0.7464  0.8075  0.7758 27.3469\n",
            "[[4629  533]\n",
            " [ 374 1569]]               precision    recall  f1-score   support\n",
            "\n",
            "           0       0.93      0.90      0.91      5162\n",
            "           1       0.75      0.81      0.78      1943\n",
            "\n",
            "    accuracy                           0.87      7105\n",
            "   macro avg       0.84      0.85      0.84      7105\n",
            "weighted avg       0.88      0.87      0.87      7105\n",
            " 27.346938775510203 29.584799437016187\n",
            "tcmalloc: large alloc 2036408320 bytes == 0x11c664000 @  0x7fcee00281e7 0x7fceddbb1ca1 0x7fceddc16778 0x7fceddc16d47 0x7fceddcb1038 0x4f8925 0x4fa6c0 0x4f6128 0x4f7d60 0x4f876d 0x4fa6c0 0x4f6128 0x4f7d60 0x4f876d 0x4f98c7 0x4f6128 0x4f7d60 0x4f876d 0x4f98c7 0x4f6128 0x4f7d60 0x4f876d 0x4f98c7 0x4f6128 0x4f7d60 0x4f876d 0x4f98c7 0x4f6128 0x4f9023 0x6415b2 0x64166a\n",
            "tstat.dtn01.nersc.gov 30Min 1.0000  1.0000  1.0000  1.0000 20.9459\n",
            "[[1053    0]\n",
            " [   0  279]]               precision    recall  f1-score   support\n",
            "\n",
            "           0       1.00      1.00      1.00      1053\n",
            "           1       1.00      1.00      1.00       279\n",
            "\n",
            "    accuracy                           1.00      1332\n",
            "   macro avg       1.00      1.00      1.00      1332\n",
            "weighted avg       1.00      1.00      1.00      1332\n",
            " 20.945945945945947 20.945945945945947\n",
            "tstat.dtn01.nersc.gov 30Min 0.8671  0.7576  0.5376  0.6289 20.9459\n",
            "[[1005   48]\n",
            " [ 129  150]]               precision    recall  f1-score   support\n",
            "\n",
            "           0       0.89      0.95      0.92      1053\n",
            "           1       0.76      0.54      0.63       279\n",
            "\n",
            "    accuracy                           0.87      1332\n",
            "   macro avg       0.82      0.75      0.77      1332\n",
            "weighted avg       0.86      0.87      0.86      1332\n",
            " 20.945945945945947 14.864864864864865\n",
            "tstat.dtn01.nersc.gov 1H 1.0000  1.0000  1.0000  1.0000 19.6697\n",
            "[[535   0]\n",
            " [  0 131]]               precision    recall  f1-score   support\n",
            "\n",
            "           0       1.00      1.00      1.00       535\n",
            "           1       1.00      1.00      1.00       131\n",
            "\n",
            "    accuracy                           1.00       666\n",
            "   macro avg       1.00      1.00      1.00       666\n",
            "weighted avg       1.00      1.00      1.00       666\n",
            " 19.66966966966967 19.66966966966967\n",
            "tstat.dtn01.nersc.gov 1H 0.8468  0.6706  0.4351  0.5278 19.6697\n",
            "[[507  28]\n",
            " [ 74  57]]               precision    recall  f1-score   support\n",
            "\n",
            "           0       0.87      0.95      0.91       535\n",
            "           1       0.67      0.44      0.53       131\n",
            "\n",
            "    accuracy                           0.85       666\n",
            "   macro avg       0.77      0.69      0.72       666\n",
            "weighted avg       0.83      0.85      0.83       666\n",
            " 19.66966966966967 12.762762762762764\n",
            "tstat.dtn02.nersc.gov 5Min 1.0000  1.0000  1.0000  1.0000 25.9740\n",
            "[[2907    0]\n",
            " [   0 1020]]               precision    recall  f1-score   support\n",
            "\n",
            "           0       1.00      1.00      1.00      2907\n",
            "           1       1.00      1.00      1.00      1020\n",
            "\n",
            "    accuracy                           1.00      3927\n",
            "   macro avg       1.00      1.00      1.00      3927\n",
            "weighted avg       1.00      1.00      1.00      3927\n",
            " 25.974025974025974 25.974025974025974\n",
            "tstat.dtn02.nersc.gov 5Min 0.8717  0.9591  0.5284  0.6814 25.9740\n",
            "[[2884   23]\n",
            " [ 481  539]]               precision    recall  f1-score   support\n",
            "\n",
            "           0       0.86      0.99      0.92      2907\n",
            "           1       0.96      0.53      0.68      1020\n",
            "\n",
            "    accuracy                           0.87      3927\n",
            "   macro avg       0.91      0.76      0.80      3927\n",
            "weighted avg       0.88      0.87      0.86      3927\n",
            " 25.974025974025974 14.31117901706137\n",
            "tstat.dtn02.nersc.gov 30Min 1.0000  1.0000  1.0000  1.0000 27.0321\n",
            "[[772   0]\n",
            " [  0 286]]               precision    recall  f1-score   support\n",
            "\n",
            "           0       1.00      1.00      1.00       772\n",
            "           1       1.00      1.00      1.00       286\n",
            "\n",
            "    accuracy                           1.00      1058\n",
            "   macro avg       1.00      1.00      1.00      1058\n",
            "weighted avg       1.00      1.00      1.00      1058\n",
            " 27.032136105860115 27.032136105860115\n",
            "tstat.dtn02.nersc.gov 30Min 0.8573  0.8729  0.5524  0.6767 27.0321\n",
            "[[749  23]\n",
            " [128 158]]               precision    recall  f1-score   support\n",
            "\n",
            "           0       0.85      0.97      0.91       772\n",
            "           1       0.87      0.55      0.68       286\n",
            "\n",
            "    accuracy                           0.86      1058\n",
            "   macro avg       0.86      0.76      0.79      1058\n",
            "weighted avg       0.86      0.86      0.85      1058\n",
            " 27.032136105860115 17.107750472589792\n",
            "tstat.dtn02.nersc.gov 1H 1.0000  1.0000  1.0000  1.0000 26.8503\n",
            "[[425   0]\n",
            " [  0 156]]               precision    recall  f1-score   support\n",
            "\n",
            "           0       1.00      1.00      1.00       425\n",
            "           1       1.00      1.00      1.00       156\n",
            "\n",
            "    accuracy                           1.00       581\n",
            "   macro avg       1.00      1.00      1.00       581\n",
            "weighted avg       1.00      1.00      1.00       581\n",
            " 26.85025817555938 26.85025817555938\n",
            "tstat.dtn02.nersc.gov 1H 0.8451  0.9125  0.4679  0.6186 26.8503\n",
            "[[418   7]\n",
            " [ 83  73]]               precision    recall  f1-score   support\n",
            "\n",
            "           0       0.83      0.98      0.90       425\n",
            "           1       0.91      0.47      0.62       156\n",
            "\n",
            "    accuracy                           0.85       581\n",
            "   macro avg       0.87      0.73      0.76       581\n",
            "weighted avg       0.86      0.85      0.83       581\n",
            " 26.85025817555938 13.769363166953529\n",
            "tcmalloc: large alloc 4269490176 bytes == 0x26a112000 @  0x7fcee00281e7 0x7fceddbb1ca1 0x7fceddc16778 0x7fceddc16d47 0x7fceddcb1038 0x4f8925 0x4fa6c0 0x4f6128 0x4f7d60 0x4f876d 0x4fa6c0 0x4f6128 0x4f7d60 0x4f876d 0x4f98c7 0x4f6128 0x4f7d60 0x4f876d 0x4f98c7 0x4f6128 0x4f7d60 0x4f876d 0x4f98c7 0x4f6128 0x4f7d60 0x4f876d 0x4f98c7 0x4f6128 0x4f9023 0x6415b2 0x64166a\n",
            "tcmalloc: large alloc 4269490176 bytes == 0x3688c6000 @  0x7fcee00281e7 0x7fceddbb1ca1 0x7fceddc19580 0x7fceddc0e5c5 0x7fceddca5887 0x4f8925 0x4f98c7 0x4f6128 0x4f426e 0x5a1481 0x57c2fe 0x4facb1 0x4f6128 0x4f7d60 0x4f876d 0x4fa6c0 0x4f6128 0x4f7d60 0x4f876d 0x4fa6c0 0x4f6128 0x4f7d60 0x4f876d 0x4f98c7 0x4f6128 0x4f7d60 0x4f876d 0x4f98c7 0x4f6128 0x4f7d60 0x4f876d\n",
            "^C\n"
          ],
          "name": "stdout"
        }
      ]
    },
    {
      "cell_type": "code",
      "metadata": {
        "id": "VQan-otWDZjF",
        "colab_type": "code",
        "colab": {}
      },
      "source": [
        ""
      ],
      "execution_count": 0,
      "outputs": []
    }
  ]
}